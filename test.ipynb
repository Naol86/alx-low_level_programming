{
 "cells": [
  {
   "cell_type": "code",
   "execution_count": 1,
   "metadata": {},
   "outputs": [
    {
     "name": "stdout",
     "output_type": "stream",
     "text": [
      "fd\n"
     ]
    }
   ],
   "source": [
    "print (\"fd\")"
   ]
  },
  {
   "cell_type": "code",
   "execution_count": 3,
   "metadata": {},
   "outputs": [
    {
     "name": "stdout",
     "output_type": "stream",
     "text": [
      "0-isupper.o 100-atoi.o 1-strncat.o 2-strncpy.o 3-strcmp.o 4-strpbrk.o 9-strcpy.o 0-memset.o 1-isdigit.o 2-strchr.o 3-islower.o 3-strspn.o 5-strstr.o 0-strcat.o 1-memcpy.o 2-strlen.o 3-puts.o 4-isalpha.o 6-abs.o _putchar.o "
     ]
    }
   ],
   "source": [
    "x=input().split()\n",
    "\n",
    "for i in x:\n",
    "    print(f\"{i[:-2]}.o\",end=\" \")"
   ]
  },
  {
   "cell_type": "code",
   "execution_count": null,
   "metadata": {},
   "outputs": [],
   "source": [
    "0-isupper.o 100-atoi.o 1-strncat.o 2-strncpy.o 3-strcmp.o 4-strpbrk.o 9-strcpy.o 0-memset.o 1-isdigit.o 2-strchr.o 3-islower.o 3-strspn.o 5-strstr.o 0-strcat.o 1-memcpy.o 2-strlen.o 3-puts.o 4-isalpha.o 6-abs.o _putchar.o"
   ]
  }
 ],
 "metadata": {
  "kernelspec": {
   "display_name": "Python 3",
   "language": "python",
   "name": "python3"
  },
  "language_info": {
   "codemirror_mode": {
    "name": "ipython",
    "version": 3
   },
   "file_extension": ".py",
   "mimetype": "text/x-python",
   "name": "python",
   "nbconvert_exporter": "python",
   "pygments_lexer": "ipython3",
   "version": "3.9.2"
  },
  "orig_nbformat": 4
 },
 "nbformat": 4,
 "nbformat_minor": 2
}
